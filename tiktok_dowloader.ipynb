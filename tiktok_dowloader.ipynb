{
 "cells": [
  {
   "cell_type": "code",
   "execution_count": 141,
   "id": "d84eb0fe",
   "metadata": {},
   "outputs": [],
   "source": [
    "import urllib\n",
    "from selenium.webdriver.firefox.options import Options\n",
    "from selenium import webdriver\n",
    "from selenium.webdriver.common.keys import Keys\n",
    "import time"
   ]
  },
  {
   "cell_type": "code",
   "execution_count": 151,
   "id": "82a4a4da",
   "metadata": {},
   "outputs": [],
   "source": [
    "url=input(\"enter the tiktok video url\")\n",
    "driver=webdriver.Firefox()\n",
    "driver.get(url)\n",
    "time.sleep(2)"
   ]
  },
  {
   "cell_type": "code",
   "execution_count": 153,
   "id": "ea97d764",
   "metadata": {},
   "outputs": [],
   "source": [
    "close_captcha=driver.find_element_by_xpath(\"//a[@aria-label='Close']\").click()"
   ]
  },
  {
   "cell_type": "code",
   "execution_count": 157,
   "id": "9c8cf0a0",
   "metadata": {},
   "outputs": [],
   "source": [
    "open_video=driver.find_element_by_xpath(\"//div[@data-e2e='feed-video']\").click()"
   ]
  },
  {
   "cell_type": "code",
   "execution_count": 159,
   "id": "22686214",
   "metadata": {},
   "outputs": [],
   "source": [
    "videos=driver.find_element_by_xpath(\"//video[@class='tiktok-1sm3sg-VideoBasic e1yey0rl4']\")"
   ]
  },
  {
   "cell_type": "code",
   "execution_count": null,
   "id": "b41a17cd",
   "metadata": {},
   "outputs": [],
   "source": [
    "video_url = videos.get_property('src')\n",
    "urllib.request.urlretrieve(video_url, 'videoname.mp4')"
   ]
  },
  {
   "cell_type": "code",
   "execution_count": null,
   "id": "421922e0",
   "metadata": {},
   "outputs": [],
   "source": [
    "print(\"finish\")"
   ]
  },
  {
   "cell_type": "code",
   "execution_count": null,
   "id": "21d8f52a",
   "metadata": {},
   "outputs": [],
   "source": []
  },
  {
   "cell_type": "code",
   "execution_count": 160,
   "id": "c6c8caec",
   "metadata": {},
   "outputs": [
    {
     "data": {
      "text/plain": [
       "('videoname.mp4', <http.client.HTTPMessage at 0x7fabe8f5d280>)"
      ]
     },
     "execution_count": 160,
     "metadata": {},
     "output_type": "execute_result"
    }
   ],
   "source": []
  },
  {
   "cell_type": "code",
   "execution_count": null,
   "id": "98b8bab4",
   "metadata": {},
   "outputs": [],
   "source": []
  }
 ],
 "metadata": {
  "kernelspec": {
   "display_name": "Python 3 (ipykernel)",
   "language": "python",
   "name": "python3"
  },
  "language_info": {
   "codemirror_mode": {
    "name": "ipython",
    "version": 3
   },
   "file_extension": ".py",
   "mimetype": "text/x-python",
   "name": "python",
   "nbconvert_exporter": "python",
   "pygments_lexer": "ipython3",
   "version": "3.9.7"
  }
 },
 "nbformat": 4,
 "nbformat_minor": 5
}
